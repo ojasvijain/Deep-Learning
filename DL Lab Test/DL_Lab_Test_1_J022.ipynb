{
  "nbformat": 4,
  "nbformat_minor": 0,
  "metadata": {
    "colab": {
      "name": "DL Lab Test 1- J022.ipynb",
      "provenance": [],
      "collapsed_sections": []
    },
    "kernelspec": {
      "name": "python3",
      "display_name": "Python 3"
    }
  },
  "cells": [
    {
      "cell_type": "markdown",
      "metadata": {
        "id": "vcj2UO5aSNI0",
        "colab_type": "text"
      },
      "source": [
        "# **MNIST**"
      ]
    },
    {
      "cell_type": "code",
      "metadata": {
        "id": "K-mvgy9yGpvh",
        "colab_type": "code",
        "outputId": "ea1487c5-2680-4ece-f8d8-d6bf78cbbb50",
        "colab": {
          "base_uri": "https://localhost:8080/",
          "height": 81
        }
      },
      "source": [
        "import numpy as np\n",
        "import keras\n",
        "from keras.datasets import mnist\n",
        "from keras.utils import to_categorical\n",
        "from keras.models import Sequential \n",
        "from keras.layers import Dense\n",
        "from keras import optimizers\n",
        "from keras.preprocessing.image import ImageDataGenerator\n",
        "import matplotlib.pyplot as plt"
      ],
      "execution_count": 0,
      "outputs": [
        {
          "output_type": "stream",
          "text": [
            "Using TensorFlow backend.\n"
          ],
          "name": "stderr"
        },
        {
          "output_type": "display_data",
          "data": {
            "text/html": [
              "<p style=\"color: red;\">\n",
              "The default version of TensorFlow in Colab will soon switch to TensorFlow 2.x.<br>\n",
              "We recommend you <a href=\"https://www.tensorflow.org/guide/migrate\" target=\"_blank\">upgrade</a> now \n",
              "or ensure your notebook will continue to use TensorFlow 1.x via the <code>%tensorflow_version 1.x</code> magic:\n",
              "<a href=\"https://colab.research.google.com/notebooks/tensorflow_version.ipynb\" target=\"_blank\">more info</a>.</p>\n"
            ],
            "text/plain": [
              "<IPython.core.display.HTML object>"
            ]
          },
          "metadata": {
            "tags": []
          }
        }
      ]
    },
    {
      "cell_type": "code",
      "metadata": {
        "id": "VCE-XuLRHEha",
        "colab_type": "code",
        "colab": {}
      },
      "source": [
        "(x_train, y_train), (x_test, y_test) = mnist.load_data()"
      ],
      "execution_count": 0,
      "outputs": []
    },
    {
      "cell_type": "code",
      "metadata": {
        "id": "d-OttjcGH8jO",
        "colab_type": "code",
        "colab": {}
      },
      "source": [
        "x_train = x_train.reshape((x_train.shape[0], 28*28))\n",
        "x_train = x_train.astype('float32')/255\n",
        "x_test = x_test.reshape((x_test.shape[0], 28*28))\n",
        "x_test = x_test.astype('float32')/255\n",
        "y_train = to_categorical(y_train, 10)\n",
        "y_test = to_categorical(y_test, 10)"
      ],
      "execution_count": 0,
      "outputs": []
    },
    {
      "cell_type": "code",
      "metadata": {
        "id": "gWqXShxmN0MG",
        "colab_type": "code",
        "colab": {}
      },
      "source": [
        "adam = keras.optimizers.Adam(lr=0.001, beta_1=0.9, beta_2=0.999, amsgrad=False)"
      ],
      "execution_count": 0,
      "outputs": []
    },
    {
      "cell_type": "code",
      "metadata": {
        "id": "l8Qyh3COJPFB",
        "colab_type": "code",
        "outputId": "49bec48d-c13d-4ba0-b6a0-d07ab53e8f6e",
        "colab": {
          "base_uri": "https://localhost:8080/",
          "height": 939
        }
      },
      "source": [
        "model = Sequential()\n",
        "model.add(Dense(units=128, activation='relu', input_shape=(784, )))\n",
        "model.add(Dense(units=64, activation='relu'))\n",
        "model.add(Dense(units=10, activation='softmax'))\n",
        "model.compile(loss='binary_crossentropy', optimizer='adam', metrics=['accuracy'])\n",
        "history = model.fit(x_train, y_train, batch_size=64, nb_epoch=10, verbose=1, validation_data = (x_test, y_test))"
      ],
      "execution_count": 0,
      "outputs": [
        {
          "output_type": "stream",
          "text": [
            "WARNING:tensorflow:From /usr/local/lib/python3.6/dist-packages/keras/backend/tensorflow_backend.py:66: The name tf.get_default_graph is deprecated. Please use tf.compat.v1.get_default_graph instead.\n",
            "\n",
            "WARNING:tensorflow:From /usr/local/lib/python3.6/dist-packages/keras/backend/tensorflow_backend.py:541: The name tf.placeholder is deprecated. Please use tf.compat.v1.placeholder instead.\n",
            "\n",
            "WARNING:tensorflow:From /usr/local/lib/python3.6/dist-packages/keras/backend/tensorflow_backend.py:4432: The name tf.random_uniform is deprecated. Please use tf.random.uniform instead.\n",
            "\n",
            "WARNING:tensorflow:From /usr/local/lib/python3.6/dist-packages/keras/optimizers.py:793: The name tf.train.Optimizer is deprecated. Please use tf.compat.v1.train.Optimizer instead.\n",
            "\n",
            "WARNING:tensorflow:From /usr/local/lib/python3.6/dist-packages/keras/backend/tensorflow_backend.py:3657: The name tf.log is deprecated. Please use tf.math.log instead.\n",
            "\n",
            "WARNING:tensorflow:From /usr/local/lib/python3.6/dist-packages/tensorflow_core/python/ops/nn_impl.py:183: where (from tensorflow.python.ops.array_ops) is deprecated and will be removed in a future version.\n",
            "Instructions for updating:\n",
            "Use tf.where in 2.0, which has the same broadcast rule as np.where\n",
            "WARNING:tensorflow:From /usr/local/lib/python3.6/dist-packages/keras/backend/tensorflow_backend.py:1033: The name tf.assign_add is deprecated. Please use tf.compat.v1.assign_add instead.\n",
            "\n"
          ],
          "name": "stdout"
        },
        {
          "output_type": "stream",
          "text": [
            "/usr/local/lib/python3.6/dist-packages/ipykernel_launcher.py:6: UserWarning: The `nb_epoch` argument in `fit` has been renamed `epochs`.\n",
            "  \n"
          ],
          "name": "stderr"
        },
        {
          "output_type": "stream",
          "text": [
            "WARNING:tensorflow:From /usr/local/lib/python3.6/dist-packages/keras/backend/tensorflow_backend.py:1020: The name tf.assign is deprecated. Please use tf.compat.v1.assign instead.\n",
            "\n",
            "WARNING:tensorflow:From /usr/local/lib/python3.6/dist-packages/keras/backend/tensorflow_backend.py:3005: The name tf.Session is deprecated. Please use tf.compat.v1.Session instead.\n",
            "\n",
            "Train on 60000 samples, validate on 10000 samples\n",
            "Epoch 1/10\n",
            "WARNING:tensorflow:From /usr/local/lib/python3.6/dist-packages/keras/backend/tensorflow_backend.py:190: The name tf.get_default_session is deprecated. Please use tf.compat.v1.get_default_session instead.\n",
            "\n",
            "WARNING:tensorflow:From /usr/local/lib/python3.6/dist-packages/keras/backend/tensorflow_backend.py:197: The name tf.ConfigProto is deprecated. Please use tf.compat.v1.ConfigProto instead.\n",
            "\n",
            "WARNING:tensorflow:From /usr/local/lib/python3.6/dist-packages/keras/backend/tensorflow_backend.py:207: The name tf.global_variables is deprecated. Please use tf.compat.v1.global_variables instead.\n",
            "\n",
            "WARNING:tensorflow:From /usr/local/lib/python3.6/dist-packages/keras/backend/tensorflow_backend.py:216: The name tf.is_variable_initialized is deprecated. Please use tf.compat.v1.is_variable_initialized instead.\n",
            "\n",
            "WARNING:tensorflow:From /usr/local/lib/python3.6/dist-packages/keras/backend/tensorflow_backend.py:223: The name tf.variables_initializer is deprecated. Please use tf.compat.v1.variables_initializer instead.\n",
            "\n",
            "60000/60000 [==============================] - 4s 68us/step - loss: 0.0467 - acc: 0.9843 - val_loss: 0.0265 - val_acc: 0.9911\n",
            "Epoch 2/10\n",
            "60000/60000 [==============================] - 4s 61us/step - loss: 0.0206 - acc: 0.9931 - val_loss: 0.0222 - val_acc: 0.9924\n",
            "Epoch 3/10\n",
            "60000/60000 [==============================] - 4s 63us/step - loss: 0.0144 - acc: 0.9952 - val_loss: 0.0176 - val_acc: 0.9940\n",
            "Epoch 4/10\n",
            "60000/60000 [==============================] - 4s 64us/step - loss: 0.0111 - acc: 0.9964 - val_loss: 0.0162 - val_acc: 0.9946\n",
            "Epoch 5/10\n",
            "60000/60000 [==============================] - 4s 61us/step - loss: 0.0087 - acc: 0.9971 - val_loss: 0.0147 - val_acc: 0.9951\n",
            "Epoch 6/10\n",
            "60000/60000 [==============================] - 4s 62us/step - loss: 0.0073 - acc: 0.9976 - val_loss: 0.0159 - val_acc: 0.9950\n",
            "Epoch 7/10\n",
            "60000/60000 [==============================] - 4s 60us/step - loss: 0.0060 - acc: 0.9980 - val_loss: 0.0156 - val_acc: 0.9950\n",
            "Epoch 8/10\n",
            "60000/60000 [==============================] - 4s 63us/step - loss: 0.0050 - acc: 0.9983 - val_loss: 0.0161 - val_acc: 0.9953\n",
            "Epoch 9/10\n",
            "60000/60000 [==============================] - 4s 64us/step - loss: 0.0040 - acc: 0.9987 - val_loss: 0.0169 - val_acc: 0.9952\n",
            "Epoch 10/10\n",
            "60000/60000 [==============================] - 4s 62us/step - loss: 0.0041 - acc: 0.9986 - val_loss: 0.0152 - val_acc: 0.9957\n"
          ],
          "name": "stdout"
        }
      ]
    },
    {
      "cell_type": "code",
      "metadata": {
        "id": "n6SKS6P3PaFl",
        "colab_type": "code",
        "outputId": "b53cc11a-ab68-4274-e24b-e7179a94a49c",
        "colab": {
          "base_uri": "https://localhost:8080/",
          "height": 260
        }
      },
      "source": [
        "model.summary()"
      ],
      "execution_count": 0,
      "outputs": [
        {
          "output_type": "stream",
          "text": [
            "Model: \"sequential_1\"\n",
            "_________________________________________________________________\n",
            "Layer (type)                 Output Shape              Param #   \n",
            "=================================================================\n",
            "dense_1 (Dense)              (None, 128)               100480    \n",
            "_________________________________________________________________\n",
            "dense_2 (Dense)              (None, 64)                8256      \n",
            "_________________________________________________________________\n",
            "dense_3 (Dense)              (None, 10)                650       \n",
            "=================================================================\n",
            "Total params: 109,386\n",
            "Trainable params: 109,386\n",
            "Non-trainable params: 0\n",
            "_________________________________________________________________\n"
          ],
          "name": "stdout"
        }
      ]
    },
    {
      "cell_type": "code",
      "metadata": {
        "id": "wtUP39BhL3qI",
        "colab_type": "code",
        "outputId": "e90a669b-84b1-476d-9afb-4f2bc2d96869",
        "colab": {
          "base_uri": "https://localhost:8080/",
          "height": 573
        }
      },
      "source": [
        "#epoch vs acc\n",
        "plt.plot(history.history['acc'])\n",
        "plt.plot(history.history['val_acc'])\n",
        "plt.title('Model accuracy')\n",
        "plt.ylabel('Accuracy')\n",
        "plt.xlabel('Epoch')\n",
        "plt.legend(['Train', 'Test'], loc='upper left')\n",
        "plt.show()\n",
        "\n",
        "#epoch vs loss\n",
        "plt.plot(history.history['loss'])\n",
        "plt.plot(history.history['val_loss'])\n",
        "plt.title('Model loss')\n",
        "plt.ylabel('Loss')\n",
        "plt.xlabel('Epoch')\n",
        "plt.legend(['Train', 'Test'], loc='upper left')\n",
        "plt.show()"
      ],
      "execution_count": 0,
      "outputs": [
        {
          "output_type": "display_data",
          "data": {
            "image/png": "[encoded data removed]",
            "text/plain": [
              "<Figure size 432x288 with 1 Axes>"
            ]
          },
          "metadata": {
            "tags": []
          }
        },
        {
          "output_type": "display_data",
          "data": {
            "image/png": "[encoded data removed]",
            "text/plain": [
              "<Figure size 432x288 with 1 Axes>"
            ]
          },
          "metadata": {
            "tags": []
          }
        }
      ]
    },
    {
      "cell_type": "markdown",
      "metadata": {
        "id": "JsbPfYrFSTbH",
        "colab_type": "text"
      },
      "source": [
        "# **IRIS**"
      ]
    },
    {
      "cell_type": "code",
      "metadata": {
        "id": "wQW0xE1qSW9T",
        "colab_type": "code",
        "colab": {}
      },
      "source": [
        "from sklearn.datasets import load_iris\n",
        "from sklearn.preprocessing import LabelEncoder\n",
        "from sklearn.pipeline import Pipeline\n",
        "from sklearn.model_selection import train_test_split\n",
        "from sklearn.preprocessing import OneHotEncoder"
      ],
      "execution_count": 0,
      "outputs": []
    },
    {
      "cell_type": "code",
      "metadata": {
        "id": "60WEyeAQSyVc",
        "colab_type": "code",
        "colab": {}
      },
      "source": [
        "iris = load_iris()\n",
        "x = iris.data\n",
        "y_ = iris.target.reshape(-1,1)"
      ],
      "execution_count": 0,
      "outputs": []
    },
    {
      "cell_type": "code",
      "metadata": {
        "id": "MMGJG4kNTKBS",
        "colab_type": "code",
        "colab": {}
      },
      "source": [
        "encoder = OneHotEncoder(sparse=False)\n",
        "y = encoder.fit_transform(y_)"
      ],
      "execution_count": 0,
      "outputs": []
    },
    {
      "cell_type": "code",
      "metadata": {
        "id": "M6EaFOeNTTJd",
        "colab_type": "code",
        "colab": {}
      },
      "source": [
        "x_train, x_test, y_train, y_test = train_test_split(x, y, test_size=0.01)"
      ],
      "execution_count": 0,
      "outputs": []
    },
    {
      "cell_type": "code",
      "metadata": {
        "id": "zOMKO8uoTdds",
        "colab_type": "code",
        "outputId": "688ba35a-dc49-46f9-aaf1-8d6847fb2aa1",
        "colab": {
          "base_uri": "https://localhost:8080/",
          "height": 416
        }
      },
      "source": [
        "model = Sequential()\n",
        "model.add(Dense(units=128, activation='relu', input_shape=(4, )))\n",
        "model.add(Dense(units=64, activation='relu'))\n",
        "model.add(Dense(units=3, activation='softmax'))\n",
        "model.compile(loss='binary_crossentropy', optimizer='adam', metrics=['accuracy'])\n",
        "history = model.fit(x_train, y_train, batch_size=64, nb_epoch=10, verbose=1, validation_data = (x_test, y_test))"
      ],
      "execution_count": 0,
      "outputs": [
        {
          "output_type": "stream",
          "text": [
            "/usr/local/lib/python3.6/dist-packages/ipykernel_launcher.py:6: UserWarning: The `nb_epoch` argument in `fit` has been renamed `epochs`.\n",
            "  \n"
          ],
          "name": "stderr"
        },
        {
          "output_type": "stream",
          "text": [
            "Train on 148 samples, validate on 2 samples\n",
            "Epoch 1/10\n",
            "148/148 [==============================] - 0s 2ms/step - loss: 0.6579 - acc: 0.6667 - val_loss: 0.7023 - val_acc: 0.6667\n",
            "Epoch 2/10\n",
            "148/148 [==============================] - 0s 58us/step - loss: 0.5922 - acc: 0.7117 - val_loss: 0.6600 - val_acc: 0.6667\n",
            "Epoch 3/10\n",
            "148/148 [==============================] - 0s 81us/step - loss: 0.5472 - acc: 0.7230 - val_loss: 0.5540 - val_acc: 0.6667\n",
            "Epoch 4/10\n",
            "148/148 [==============================] - 0s 69us/step - loss: 0.5007 - acc: 0.7545 - val_loss: 0.4313 - val_acc: 0.8333\n",
            "Epoch 5/10\n",
            "148/148 [==============================] - 0s 80us/step - loss: 0.4619 - acc: 0.8514 - val_loss: 0.3306 - val_acc: 1.0000\n",
            "Epoch 6/10\n",
            "148/148 [==============================] - 0s 66us/step - loss: 0.4303 - acc: 0.8761 - val_loss: 0.2608 - val_acc: 1.0000\n",
            "Epoch 7/10\n",
            "148/148 [==============================] - 0s 57us/step - loss: 0.3989 - acc: 0.8806 - val_loss: 0.2235 - val_acc: 1.0000\n",
            "Epoch 8/10\n",
            "148/148 [==============================] - 0s 57us/step - loss: 0.3732 - acc: 0.8784 - val_loss: 0.2024 - val_acc: 1.0000\n",
            "Epoch 9/10\n",
            "148/148 [==============================] - 0s 77us/step - loss: 0.3493 - acc: 0.8829 - val_loss: 0.1776 - val_acc: 1.0000\n",
            "Epoch 10/10\n",
            "148/148 [==============================] - 0s 79us/step - loss: 0.3288 - acc: 0.8716 - val_loss: 0.1492 - val_acc: 1.0000\n"
          ],
          "name": "stdout"
        }
      ]
    },
    {
      "cell_type": "code",
      "metadata": {
        "id": "fRhfAVNGTttI",
        "colab_type": "code",
        "outputId": "e4913f71-689b-4065-ccc8-37708c3c366d",
        "colab": {
          "base_uri": "https://localhost:8080/",
          "height": 260
        }
      },
      "source": [
        "model.summary()"
      ],
      "execution_count": 0,
      "outputs": [
        {
          "output_type": "stream",
          "text": [
            "Model: \"sequential_4\"\n",
            "_________________________________________________________________\n",
            "Layer (type)                 Output Shape              Param #   \n",
            "=================================================================\n",
            "dense_10 (Dense)             (None, 128)               640       \n",
            "_________________________________________________________________\n",
            "dense_11 (Dense)             (None, 64)                8256      \n",
            "_________________________________________________________________\n",
            "dense_12 (Dense)             (None, 3)                 195       \n",
            "=================================================================\n",
            "Total params: 9,091\n",
            "Trainable params: 9,091\n",
            "Non-trainable params: 0\n",
            "_________________________________________________________________\n"
          ],
          "name": "stdout"
        }
      ]
    },
    {
      "cell_type": "code",
      "metadata": {
        "id": "NWtVMspTU0Fs",
        "colab_type": "code",
        "outputId": "714baf65-dbd7-4eaa-8d62-f3df6f75a674",
        "colab": {
          "base_uri": "https://localhost:8080/",
          "height": 573
        }
      },
      "source": [
        "#epoch vs acc\n",
        "plt.plot(history.history['acc'])\n",
        "plt.plot(history.history['val_acc'])\n",
        "plt.title('Model accuracy')\n",
        "plt.ylabel('Accuracy')\n",
        "plt.xlabel('Epoch')\n",
        "plt.legend(['Train', 'Test'], loc='upper left')\n",
        "plt.show()\n",
        "\n",
        "#epoch vs loss\n",
        "plt.plot(history.history['loss'])\n",
        "plt.plot(history.history['val_loss'])\n",
        "plt.title('Model loss')\n",
        "plt.ylabel('Loss')\n",
        "plt.xlabel('Epoch')\n",
        "plt.legend(['Train', 'Test'], loc='upper left')\n",
        "plt.show()"
      ],
      "execution_count": 0,
      "outputs": [
        {
          "output_type": "display_data",
          "data": {
            "image/png": "[encoded data removed]",
            "text/plain": [
              "<Figure size 432x288 with 1 Axes>"
            ]
          },
          "metadata": {
            "tags": []
          }
        },
        {
          "output_type": "display_data",
          "data": {
            "image/png": "[encoded data removed]",
            "text/plain": [
              "<Figure size 432x288 with 1 Axes>"
            ]
          },
          "metadata": {
            "tags": []
          }
        }
      ]
    },
    {
      "cell_type": "markdown",
      "metadata": {
        "id": "zok-OGRqU-xc",
        "colab_type": "text"
      },
      "source": [
        "# **FASHION MNIST**"
      ]
    },
    {
      "cell_type": "code",
      "metadata": {
        "id": "x86MTgqhVCTJ",
        "colab_type": "code",
        "colab": {}
      },
      "source": [
        "from keras.datasets import fashion_mnist\n",
        "from keras.preprocessing.image import ImageDataGenerator\n",
        "(x_train, y_train), (x_test, y_test) = fashion_mnist.load_data()"
      ],
      "execution_count": 0,
      "outputs": []
    },
    {
      "cell_type": "code",
      "metadata": {
        "id": "e8RhmBheVkZs",
        "colab_type": "code",
        "outputId": "2e93deb0-7fb3-4e8f-886b-1ddd9e143cec",
        "colab": {
          "base_uri": "https://localhost:8080/",
          "height": 35
        }
      },
      "source": [
        "x_train.shape \n",
        "y_train.shape"
      ],
      "execution_count": 0,
      "outputs": [
        {
          "output_type": "execute_result",
          "data": {
            "text/plain": [
              "(60000,)"
            ]
          },
          "metadata": {
            "tags": []
          },
          "execution_count": 23
        }
      ]
    },
    {
      "cell_type": "code",
      "metadata": {
        "id": "cN6DaFy4VxP9",
        "colab_type": "code",
        "colab": {}
      },
      "source": [
        "x_train = x_train.reshape((x_train.shape[0], 28*28))\n",
        "x_train = x_train.astype('float32')/255\n",
        "x_test = x_test.reshape((x_test.shape[0], 28*28))\n",
        "x_test = x_test.astype('float32')/255\n",
        "y_train = to_categorical(y_train, 10)\n",
        "y_test = to_categorical(y_test, 10)"
      ],
      "execution_count": 0,
      "outputs": []
    },
    {
      "cell_type": "code",
      "metadata": {
        "id": "kuoAmAt_V_gx",
        "colab_type": "code",
        "outputId": "20523eb5-3d45-435b-a27c-0b8bf373e7cb",
        "colab": {
          "base_uri": "https://localhost:8080/",
          "height": 763
        }
      },
      "source": [
        "model = Sequential()\n",
        "model.add(Dense(units=128, activation='relu', input_shape=(784, )))\n",
        "model.add(Dense(units=128, activation='relu'))\n",
        "model.add(Dense(units=64, activation='relu'))\n",
        "model.add(Dense(units=64, activation='relu'))\n",
        "model.add(Dense(units=10, activation='softmax'))\n",
        "model.compile(loss='binary_crossentropy', optimizer='adam', metrics=['accuracy'])\n",
        "history = model.fit(x_train, y_train, batch_size=64, nb_epoch=20, verbose=1, validation_data = (x_test, y_test))"
      ],
      "execution_count": 0,
      "outputs": [
        {
          "output_type": "stream",
          "text": [
            "/usr/local/lib/python3.6/dist-packages/ipykernel_launcher.py:8: UserWarning: The `nb_epoch` argument in `fit` has been renamed `epochs`.\n",
            "  \n"
          ],
          "name": "stderr"
        },
        {
          "output_type": "stream",
          "text": [
            "Train on 60000 samples, validate on 10000 samples\n",
            "Epoch 1/20\n",
            "60000/60000 [==============================] - 6s 100us/step - loss: 0.0916 - acc: 0.9635 - val_loss: 0.0758 - val_acc: 0.9697\n",
            "Epoch 2/20\n",
            "60000/60000 [==============================] - 5s 88us/step - loss: 0.0667 - acc: 0.9733 - val_loss: 0.0686 - val_acc: 0.9727\n",
            "Epoch 3/20\n",
            "60000/60000 [==============================] - 5s 86us/step - loss: 0.0607 - acc: 0.9756 - val_loss: 0.0667 - val_acc: 0.9736\n",
            "Epoch 4/20\n",
            "60000/60000 [==============================] - 5s 81us/step - loss: 0.0571 - acc: 0.9770 - val_loss: 0.0651 - val_acc: 0.9742\n",
            "Epoch 5/20\n",
            "60000/60000 [==============================] - 5s 87us/step - loss: 0.0545 - acc: 0.9779 - val_loss: 0.0651 - val_acc: 0.9745\n",
            "Epoch 6/20\n",
            "60000/60000 [==============================] - 5s 85us/step - loss: 0.0518 - acc: 0.9791 - val_loss: 0.0718 - val_acc: 0.9719\n",
            "Epoch 7/20\n",
            "60000/60000 [==============================] - 5s 84us/step - loss: 0.0497 - acc: 0.9800 - val_loss: 0.0597 - val_acc: 0.9760\n",
            "Epoch 8/20\n",
            "60000/60000 [==============================] - 5s 82us/step - loss: 0.0476 - acc: 0.9810 - val_loss: 0.0595 - val_acc: 0.9770\n",
            "Epoch 9/20\n",
            "60000/60000 [==============================] - 5s 83us/step - loss: 0.0463 - acc: 0.9813 - val_loss: 0.0598 - val_acc: 0.9766\n",
            "Epoch 10/20\n",
            "60000/60000 [==============================] - 5s 88us/step - loss: 0.0449 - acc: 0.9818 - val_loss: 0.0638 - val_acc: 0.9759\n",
            "Epoch 11/20\n",
            "60000/60000 [==============================] - 5s 84us/step - loss: 0.0430 - acc: 0.9825 - val_loss: 0.0590 - val_acc: 0.9771\n",
            "Epoch 12/20\n",
            "60000/60000 [==============================] - 5s 80us/step - loss: 0.0418 - acc: 0.9831 - val_loss: 0.0578 - val_acc: 0.9780\n",
            "Epoch 13/20\n",
            "60000/60000 [==============================] - 5s 83us/step - loss: 0.0406 - acc: 0.9836 - val_loss: 0.0607 - val_acc: 0.9774\n",
            "Epoch 14/20\n",
            "60000/60000 [==============================] - 5s 77us/step - loss: 0.0394 - acc: 0.9841 - val_loss: 0.0635 - val_acc: 0.9770\n",
            "Epoch 15/20\n",
            "60000/60000 [==============================] - 5s 79us/step - loss: 0.0388 - acc: 0.9842 - val_loss: 0.0581 - val_acc: 0.9781\n",
            "Epoch 16/20\n",
            "60000/60000 [==============================] - 5s 76us/step - loss: 0.0375 - acc: 0.9848 - val_loss: 0.0614 - val_acc: 0.9773\n",
            "Epoch 17/20\n",
            "60000/60000 [==============================] - 5s 76us/step - loss: 0.0364 - acc: 0.9851 - val_loss: 0.0642 - val_acc: 0.9778\n",
            "Epoch 18/20\n",
            "60000/60000 [==============================] - 5s 77us/step - loss: 0.0356 - acc: 0.9856 - val_loss: 0.0661 - val_acc: 0.9763\n",
            "Epoch 19/20\n",
            "60000/60000 [==============================] - 5s 78us/step - loss: 0.0352 - acc: 0.9859 - val_loss: 0.0622 - val_acc: 0.9778\n",
            "Epoch 20/20\n",
            "60000/60000 [==============================] - 5s 85us/step - loss: 0.0338 - acc: 0.9862 - val_loss: 0.0641 - val_acc: 0.9783\n"
          ],
          "name": "stdout"
        }
      ]
    },
    {
      "cell_type": "code",
      "metadata": {
        "id": "MQqvCHDWWGdM",
        "colab_type": "code",
        "outputId": "4e150c6a-67db-4cf2-e66f-ba7fce3fb370",
        "colab": {
          "base_uri": "https://localhost:8080/",
          "height": 329
        }
      },
      "source": [
        "model.summary()"
      ],
      "execution_count": 0,
      "outputs": [
        {
          "output_type": "stream",
          "text": [
            "Model: \"sequential_7\"\n",
            "_________________________________________________________________\n",
            "Layer (type)                 Output Shape              Param #   \n",
            "=================================================================\n",
            "dense_20 (Dense)             (None, 128)               100480    \n",
            "_________________________________________________________________\n",
            "dense_21 (Dense)             (None, 128)               16512     \n",
            "_________________________________________________________________\n",
            "dense_22 (Dense)             (None, 64)                8256      \n",
            "_________________________________________________________________\n",
            "dense_23 (Dense)             (None, 64)                4160      \n",
            "_________________________________________________________________\n",
            "dense_24 (Dense)             (None, 10)                650       \n",
            "=================================================================\n",
            "Total params: 130,058\n",
            "Trainable params: 130,058\n",
            "Non-trainable params: 0\n",
            "_________________________________________________________________\n"
          ],
          "name": "stdout"
        }
      ]
    },
    {
      "cell_type": "code",
      "metadata": {
        "id": "o-3SW1vRbw0U",
        "colab_type": "code",
        "outputId": "eaf1d9b6-e5b8-4659-d4f3-140203187bcd",
        "colab": {
          "base_uri": "https://localhost:8080/",
          "height": 573
        }
      },
      "source": [
        "#epoch vs acc\n",
        "plt.plot(history.history['acc'])\n",
        "plt.plot(history.history['val_acc'])\n",
        "plt.title('Model accuracy')\n",
        "plt.ylabel('Accuracy')\n",
        "plt.xlabel('Epoch')\n",
        "plt.legend(['Train', 'Test'], loc='upper left')\n",
        "plt.show()\n",
        "\n",
        "#epoch vs loss\n",
        "plt.plot(history.history['loss'])\n",
        "plt.plot(history.history['val_loss'])\n",
        "plt.title('Model loss')\n",
        "plt.ylabel('Loss')\n",
        "plt.xlabel('Epoch')\n",
        "plt.legend(['Train', 'Test'], loc='upper left')\n",
        "plt.show()"
      ],
      "execution_count": 0,
      "outputs": [
        {
          "output_type": "display_data",
          "data": {
            "image/png": "[encoded data removed]",
            "text/plain": [
              "<Figure size 432x288 with 1 Axes>"
            ]
          },
          "metadata": {
            "tags": []
          }
        },
        {
          "output_type": "display_data",
          "data": {
            "image/png": "[encoded data removed]",
            "text/plain": [
              "<Figure size 432x288 with 1 Axes>"
            ]
          },
          "metadata": {
            "tags": []
          }
        }
      ]
    },
    {
      "cell_type": "code",
      "metadata": {
        "id": "vfDPNJifb4WQ",
        "colab_type": "code",
        "colab": {}
      },
      "source": [
        ""
      ],
      "execution_count": 0,
      "outputs": []
    }
  ]
}